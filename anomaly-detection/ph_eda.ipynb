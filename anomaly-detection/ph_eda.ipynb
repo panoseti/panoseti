{
 "cells": [
  {
   "cell_type": "code",
   "execution_count": null,
   "id": "01b6bf6e-ec98-471b-93e0-54035876f3a6",
   "metadata": {},
   "outputs": [],
   "source": [
    "!pwd"
   ]
  },
  {
   "cell_type": "code",
   "execution_count": 35,
   "id": "26a71ab7-b842-4dba-b389-d61c3b8dfad1",
   "metadata": {},
   "outputs": [
    {
     "name": "stdout",
     "output_type": "stream",
     "text": [
      "The autoreload extension is already loaded. To reload it, use:\n",
      "  %reload_ext autoreload\n"
     ]
    }
   ],
   "source": [
    "%load_ext autoreload\n",
    "%autoreload 2\n",
    "\n",
    "import sys, os\n",
    "import logging, typing\n",
    "from torchvision import transforms\n",
    "\n",
    "import pandas as pd\n",
    "import numpy as np\n",
    "from matplotlib import pyplot as plt\n",
    "import seaborn as sns\n",
    "import itertools\n",
    "\n",
    "import torch\n",
    "from tqdm import tqdm\n",
    "\n",
    "sys.path.append('../util')\n",
    "import panoseti_file_interfaces as pfi\n",
    "import pff\n",
    "from vae_model import *\n",
    "from ph_dataset import *"
   ]
  },
  {
   "cell_type": "code",
   "execution_count": 14,
   "id": "ddc0b7e8-a44f-4ae3-9c9d-b826b443fa22",
   "metadata": {},
   "outputs": [],
   "source": [
    "x = torch.arange(5 * 256).reshape(5, 16, 16) * 1.0"
   ]
  },
  {
   "cell_type": "code",
   "execution_count": 32,
   "id": "c468b6ab-8726-4310-afa2-5a6e40fb36fa",
   "metadata": {},
   "outputs": [
    {
     "data": {
      "text/plain": [
       "torch.Size([5])"
      ]
     },
     "execution_count": 32,
     "metadata": {},
     "output_type": "execute_result"
    }
   ],
   "source": [
    "x.amax((1, 2)).shape"
   ]
  },
  {
   "cell_type": "code",
   "execution_count": null,
   "id": "809cb05b-11ea-44e1-ae44-0e69c5a56a8f",
   "metadata": {},
   "outputs": [],
   "source": []
  },
  {
   "cell_type": "code",
   "execution_count": 36,
   "id": "ae0be7ab-8650-4ea6-8b01-ea6bc259a64c",
   "metadata": {},
   "outputs": [],
   "source": [
    "def show_dataset_sample(dataset, nrows=5, ncols=15, cmap='rocket', log_cbar=False, norm=False):\n",
    "    \"\"\"Preview images from the dataset.\"\"\"\n",
    "    nsamples = nrows * ncols\n",
    "    idxs = np.arange(len(dataset))\n",
    "    sample_idxs = np.random.choice(idxs, nsamples, replace=False)\n",
    "    \n",
    "    if len(sample_idxs) < nsamples:\n",
    "        print('Not enough training data')\n",
    "\n",
    "    f = plt.figure(figsize=(ncols, nrows))\n",
    "    # f.tight_layout()\n",
    "\n",
    "    canvas = np.zeros((nrows * 16, ncols * 16))\n",
    "    xy_indices = itertools.product(range(nrows), range(ncols))\n",
    "    for i, (row, col) in enumerate(xy_indices):\n",
    "        idx = sample_idxs[i]\n",
    "        canvas[row*16:(row+1)*16, col*16:(col+1)*16] = ph_dataset.get_ph_data(idx)['img']\n",
    "    if norm:\n",
    "        canvas = canvas\n",
    "    if log_cbar:\n",
    "        img_plt = plt.imshow(canvas, cmap=cmap)\n",
    "        # format cbar\n",
    "        cbar = plt.colorbar(img_plt, fraction=0.027, pad=0.025)\n",
    "        cbar.ax.yaxis.set_major_formatter(FuncFormatter(colorbar_formatter))\n",
    "        plt.title(\"Log-Normalized Real Pulse Height Images\")\n",
    "    else:\n",
    "        img_plt = plt.imshow(canvas, cmap=cmap)\n",
    "        # format cbar\n",
    "        cbar = plt.colorbar(img_plt, fraction=0.027, pad=0.025)\n",
    "        plt.title(\"Real Pulse Height Images\")\n",
    "    plt.show(f)"
   ]
  },
  {
   "cell_type": "code",
   "execution_count": 37,
   "id": "8a772fd6-1303-4849-8996-944993d9c8d9",
   "metadata": {},
   "outputs": [],
   "source": [
    "ph_dataset_config = {\n",
    "    \"max_ph_frames\": 10_000,\n",
    "    \"observing_runs\": [\n",
    "        {\n",
    "            \"data_dir\": './test_data',\n",
    "            \"run_dir\": 'obs_Lick.start_2023-07-14T04:46:21Z.runtype_sci-obs.pffd',\n",
    "            \"module_ids\": 'all',\n",
    "        },\n",
    "        {\n",
    "            \"data_dir\": './test_data',\n",
    "            \"run_dir\": 'obs_Lick.start_2023-08-15T07:15:50Z.runtype_sci-obs.pffd',\n",
    "            \"module_ids\": 'all',\n",
    "        },\n",
    "        {\n",
    "            \"data_dir\": './test_data',\n",
    "            \"run_dir\": 'obs_Lick.start_2023-09-14T04:25:43Z.runtype_sci-obs.pffd',\n",
    "            \"module_ids\": 'all',\n",
    "        },\n",
    "        {\n",
    "            \"data_dir\": './test_data',\n",
    "            \"run_dir\": 'obs_Lick.start_2023-10-12T04:28:34Z.runtype_eng-test.pffd',\n",
    "            \"module_ids\": 'all',\n",
    "        },\n",
    "        {\n",
    "            \"data_dir\": './test_data',\n",
    "            \"run_dir\": 'obs_Lick.start_2024-05-24T04:37:30Z.runtype_sci-data.pffd',\n",
    "            \"module_ids\": 'all',\n",
    "        },\n",
    "        {\n",
    "            \"data_dir\": './test_data',\n",
    "            \"run_dir\": 'obs_Lick.start_2024-07-25T04:34:06Z.runtype_sci-data.pffd',\n",
    "            \"module_ids\": 'all',\n",
    "        },\n",
    "    ]\n",
    "}"
   ]
  },
  {
   "cell_type": "code",
   "execution_count": 39,
   "id": "dfcb93b8-292b-4a7e-934f-d99a788c1e4e",
   "metadata": {},
   "outputs": [
    {
     "name": "stdout",
     "output_type": "stream",
     "text": [
      "Computing PH baselines for obs_Lick.start_2023-07-14T04:46:21Z.runtype_sci-obs.pffd\n"
     ]
    },
    {
     "name": "stderr",
     "output_type": "stream",
     "text": [
      "100%|███████████████████████████████████████████████████████████████████████████████████████| 9999/9999 [00:00<00:00, 13235.00frames/s]\n",
      "100%|███████████████████████████████████████████████████████████████████████████████████████| 9999/9999 [00:00<00:00, 14192.72frames/s]\n",
      "100%|███████████████████████████████████████████████████████████████████████████████████████| 9999/9999 [00:00<00:00, 14486.43frames/s]\n"
     ]
    },
    {
     "name": "stdout",
     "output_type": "stream",
     "text": [
      "Computing PH baselines for obs_Lick.start_2023-08-15T07:15:50Z.runtype_sci-obs.pffd\n"
     ]
    },
    {
     "name": "stderr",
     "output_type": "stream",
     "text": [
      "100%|███████████████████████████████████████████████████████████████████████████████████████| 9999/9999 [00:00<00:00, 14408.53frames/s]\n",
      "100%|███████████████████████████████████████████████████████████████████████████████████████| 9999/9999 [00:00<00:00, 14537.74frames/s]\n",
      "100%|███████████████████████████████████████████████████████████████████████████████████████| 9999/9999 [00:00<00:00, 14393.80frames/s]\n"
     ]
    },
    {
     "name": "stdout",
     "output_type": "stream",
     "text": [
      "Computing PH baselines for obs_Lick.start_2023-09-14T04:25:43Z.runtype_sci-obs.pffd\n"
     ]
    },
    {
     "name": "stderr",
     "output_type": "stream",
     "text": [
      "100%|███████████████████████████████████████████████████████████████████████████████████████| 9999/9999 [00:00<00:00, 14405.35frames/s]\n",
      "100%|███████████████████████████████████████████████████████████████████████████████████████| 9999/9999 [00:00<00:00, 14327.41frames/s]\n",
      "100%|███████████████████████████████████████████████████████████████████████████████████████| 9999/9999 [00:00<00:00, 12635.48frames/s]\n"
     ]
    },
    {
     "name": "stdout",
     "output_type": "stream",
     "text": [
      "Computing PH baselines for obs_Lick.start_2023-10-12T04:28:34Z.runtype_eng-test.pffd\n"
     ]
    },
    {
     "name": "stderr",
     "output_type": "stream",
     "text": [
      "100%|███████████████████████████████████████████████████████████████████████████████████████| 9999/9999 [00:00<00:00, 12895.95frames/s]\n",
      "100%|███████████████████████████████████████████████████████████████████████████████████████| 9999/9999 [00:00<00:00, 12083.08frames/s]\n",
      "100%|███████████████████████████████████████████████████████████████████████████████████████| 9999/9999 [00:00<00:00, 13629.04frames/s]\n"
     ]
    },
    {
     "name": "stdout",
     "output_type": "stream",
     "text": [
      "Computing PH baselines for obs_Lick.start_2024-05-24T04:37:30Z.runtype_sci-data.pffd\n"
     ]
    },
    {
     "name": "stderr",
     "output_type": "stream",
     "text": [
      "100%|███████████████████████████████████████████████████████████████████████████████████████| 9999/9999 [00:00<00:00, 13706.86frames/s]\n",
      "100%|███████████████████████████████████████████████████████████████████████████████████████| 9999/9999 [00:00<00:00, 12860.66frames/s]\n"
     ]
    },
    {
     "name": "stdout",
     "output_type": "stream",
     "text": [
      "Computing PH baselines for obs_Lick.start_2024-07-25T04:34:06Z.runtype_sci-data.pffd\n"
     ]
    },
    {
     "name": "stderr",
     "output_type": "stream",
     "text": [
      "100%|███████████████████████████████████████████████████████████████████████████████████████| 9999/9999 [00:00<00:00, 12265.36frames/s]\n",
      "100%|███████████████████████████████████████████████████████████████████████████████████████| 9999/9999 [00:00<00:00, 13114.65frames/s]\n",
      "[INFO][2025-01-23:17:50:44,308][ph_dataset.py:189] Init: dataset_length = 10000\n",
      "[INFO][2025-01-23:17:50:44,308][ph_dataset.py:189] Init: dataset_length = 10000\n",
      "[INFO][2025-01-23:17:50:44,308][ph_dataset.py:196] Init: min_max_pixel_z_score = 5\n",
      "[INFO][2025-01-23:17:50:44,308][ph_dataset.py:196] Init: min_max_pixel_z_score = 5\n"
     ]
    },
    {
     "name": "stdout",
     "output_type": "stream",
     "text": [
      "Computing PH image statistics\n"
     ]
    },
    {
     "name": "stderr",
     "output_type": "stream",
     "text": [
      "100%|███████████████████████████████████████████████████████████████████████████████████| 10000/10000 [00:02<00:00, 4606.61ph_frames/s]\n",
      "[INFO][2025-01-23:17:50:46,575][ph_dataset.py:322] Resetting dataset-global PH frame generator\n",
      "[INFO][2025-01-23:17:50:46,575][ph_dataset.py:322] Resetting dataset-global PH frame generator\n",
      "[INFO][2025-01-23:17:50:46,575][ph_dataset.py:322] Resetting dataset-global PH frame generator\n",
      "[INFO][2025-01-23:17:50:46,575][ph_dataset.py:322] Resetting dataset-global PH frame generator\n"
     ]
    },
    {
     "name": "stdout",
     "output_type": "stream",
     "text": [
      "{'mean': array(5.6854563, dtype=float32), 'median': array(0., dtype=float32), 'std': array(43.793335, dtype=float32), 'min': array(-174., dtype=float32), 'max': array(3286., dtype=float32), 'norm_channel_max': array(170.6745, dtype=float32), 'q9995': tensor(709.)}\n"
     ]
    }
   ],
   "source": [
    "transform = transforms.Compose([\n",
    "    transforms.ToTensor(),\n",
    "    transforms.RandomHorizontalFlip(),\n",
    "    transforms.RandomVerticalFlip(),\n",
    "    transforms.ConvertImageDtype(torch.float),\n",
    "])\n",
    "\n",
    "ph_dataset = PulseHeightDataset(ph_dataset_config, transform=transform, log_level=logging.INFO)\n",
    "ph_dataset.reset_ph_generator()"
   ]
  },
  {
   "cell_type": "code",
   "execution_count": null,
   "id": "0223b495-301a-4246-92d2-f96a3e17112c",
   "metadata": {},
   "outputs": [],
   "source": [
    "# PH data EDA: visualize PH image and the distribution of pixel values.\n",
    "# ph_dataset.reset_ph_generator()\n",
    "ph_data = ph_dataset.get_ph_data(2)\n",
    "\n",
    "assert ph_data['img'] is not None\n",
    "f, axs = plt.subplots(1, 2, figsize=(8 * 4, 6))\n",
    "ph_dataset.plot_ph_img(ph_data['img'], ph_data['meta'], ax=axs[0])\n",
    "ph_dataset.plot_ph_pixel_dist(ph_data['img'],  ph_data['meta'], ax=axs[1], upper=None)\n",
    "# ph_dataset.plot_ph_pixel_dist(ph_data['img'],  ph_data['meta'], ax=axs[2], upper=False)\n",
    "# ph_dataset.plot_ph_pixel_dist(ph_data['img'],  ph_data['meta'], ax=axs[3], upper=True)\n",
    "f.suptitle(f\"16x16 11.5 PE Pulse-Height Image at {ph_data['meta']['unix_timestamp']}\")\n",
    "plt.show()\n",
    "ph_data['meta']"
   ]
  },
  {
   "cell_type": "code",
   "execution_count": null,
   "id": "cd8cc595-3f9d-4f19-ae40-7a7c6e7be68d",
   "metadata": {},
   "outputs": [],
   "source": [
    "show_dataset_sample(ph_dataset, nrows=15, ncols=25, norm=True)"
   ]
  },
  {
   "cell_type": "code",
   "execution_count": null,
   "id": "922b5496-6f30-4faa-ab95-15f1cd1ec367",
   "metadata": {},
   "outputs": [],
   "source": []
  },
  {
   "cell_type": "code",
   "execution_count": null,
   "id": "6aebaef0-28e3-4ccb-98c0-e584b72d843f",
   "metadata": {},
   "outputs": [],
   "source": []
  },
  {
   "cell_type": "code",
   "execution_count": null,
   "id": "e148f0c2-0924-4f1a-b3be-5e18605617a9",
   "metadata": {},
   "outputs": [],
   "source": []
  }
 ],
 "metadata": {
  "kernelspec": {
   "display_name": "Python 3 (ipykernel)",
   "language": "python",
   "name": "python3"
  },
  "language_info": {
   "codemirror_mode": {
    "name": "ipython",
    "version": 3
   },
   "file_extension": ".py",
   "mimetype": "text/x-python",
   "name": "python",
   "nbconvert_exporter": "python",
   "pygments_lexer": "ipython3",
   "version": "3.9.16"
  }
 },
 "nbformat": 4,
 "nbformat_minor": 5
}
