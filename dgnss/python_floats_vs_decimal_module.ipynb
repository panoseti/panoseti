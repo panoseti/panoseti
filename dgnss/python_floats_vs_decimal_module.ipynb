{
 "cells": [
  {
   "cell_type": "code",
   "execution_count": 1,
   "id": "initial_id",
   "metadata": {},
   "outputs": [],
   "source": [
    "%load_ext autoreload\n",
    "from decimal import *\n",
    "\n",
    "\n",
    "from dgnss_utils import pff\n",
    "\n",
    "%autoreload 2"
   ]
  },
  {
   "cell_type": "code",
   "execution_count": 3,
   "id": "542b0fd7-958d-4bd2-af44-6e214e677c15",
   "metadata": {},
   "outputs": [],
   "source": [
    "# Two sample PH packet timestamps\n",
    "t1_info = {\n",
    "    'pkt_tai': 340,\n",
    "    'pkt_nsec': 602063831,\n",
    "    'tv_sec': 1693284656\n",
    "}\n",
    "\n",
    "t2_info = {\n",
    "    'pkt_tai': 344,\n",
    "    'pkt_nsec': 207500895,\n",
    "    'tv_sec': 1693284659\n",
    "}"
   ]
  },
  {
   "cell_type": "code",
   "execution_count": 4,
   "id": "85d1b63e-11ca-4908-9ac7-488b034a245e",
   "metadata": {},
   "outputs": [
    {
     "name": "stdout",
     "output_type": "stream",
     "text": [
      "t1 \t= 1693284655.602064\n",
      "t2 \t= 1693284659.207501\n",
      "t2 - t1 = 3.6054370403289795\n"
     ]
    }
   ],
   "source": [
    "# Timestamp operations with default Python floats\n",
    "t1 = pff.wr_to_unix(**t1_info)\n",
    "t2 = pff.wr_to_unix(**t2_info)\n",
    "\n",
    "diff_with_Python_floats = t2 - t1\n",
    "\n",
    "print(f't1 \\t= {t1}\\nt2 \\t= {t2}')\n",
    "print(f't2 - t1 = {diff_with_Python_floats}')"
   ]
  },
  {
   "cell_type": "code",
   "execution_count": 6,
   "id": "42f41f58-d17f-437b-b47a-39d56067ec97",
   "metadata": {},
   "outputs": [
    {
     "name": "stdout",
     "output_type": "stream",
     "text": [
      "hello\n",
      "hello\n",
      "T1 \t= 1693284655.602063831\n",
      "T2 \t= 1693284659.207500895\n",
      "T2 - T1 = 3.605437064\n",
      "Decimal('3.605437064')\n"
     ]
    },
    {
     "data": {
      "text/plain": [
       "3.605437064"
      ]
     },
     "execution_count": 6,
     "metadata": {},
     "output_type": "execute_result"
    }
   ],
   "source": [
    "# Timestamps operations with the \"decimal\" module (part of the Python Standard Library)\n",
    "with localcontext() as ctx:\n",
    "    ctx.prec = 100  # sets the current decimal arithmetic precision to 100 places\n",
    "    T1 = pff.wr_to_unix_decimal(**t1_info)\n",
    "    T2 = pff.wr_to_unix_decimal(**t2_info)\n",
    "    diff_with_decimal_module = T2 - T1\n",
    "\n",
    "print(f'T1 \\t= {T1}\\nT2 \\t= {T2}')\n",
    "print(f'T2 - T1 = {diff_with_decimal_module}')\n",
    "print(repr(diff_with_decimal_module))\n",
    "float(diff_with_decimal_module)"
   ]
  },
  {
   "cell_type": "code",
   "execution_count": 20,
   "id": "dc597ab1-ed0e-4037-b6b6-aaf90ce13804",
   "metadata": {},
   "outputs": [],
   "source": [
    "import numpy as np"
   ]
  },
  {
   "cell_type": "code",
   "execution_count": 41,
   "id": "485e6147-bfbb-46fe-8d59-f0c7907fe51b",
   "metadata": {},
   "outputs": [
    {
     "data": {
      "text/plain": [
       "sys.float_info(max=1.7976931348623157e+308, max_exp=1024, max_10_exp=308, min=2.2250738585072014e-308, min_exp=-1021, min_10_exp=-307, dig=15, mant_dig=53, epsilon=2.220446049250313e-16, radix=2, rounds=1)"
      ]
     },
     "execution_count": 41,
     "metadata": {},
     "output_type": "execute_result"
    }
   ],
   "source": [
    "import sys\n",
    "sys.float_info"
   ]
  },
  {
   "cell_type": "code",
   "execution_count": 29,
   "id": "f14ab43f-f6bd-45d9-8b5a-365ec6f991b6",
   "metadata": {},
   "outputs": [
    {
     "name": "stdout",
     "output_type": "stream",
     "text": [
      "T1 \t= 1693284655.602064\n",
      "T2 \t= 1693284659.207501\n",
      "T2 - T1 = 3.6054370403289795\n"
     ]
    }
   ],
   "source": [
    "# Timestamps operations with numpy float64\n",
    "T1_np = pff.wr_to_unix_numpy(**t1_info)\n",
    "T2_np = pff.wr_to_unix_numpy(**t2_info)\n",
    "diff_with_numpy = T2_np - T1_np\n",
    "\n",
    "print(f'T1 \\t= {T1_np}\\nT2 \\t= {T2_np}')\n",
    "print(f'T2 - T1 = {diff_with_numpy}')"
   ]
  },
  {
   "cell_type": "code",
   "execution_count": 44,
   "id": "d7cdc728-75c2-4080-b703-8d738fbe0eab",
   "metadata": {},
   "outputs": [
    {
     "data": {
      "text/plain": [
       "Decimal('1.053037147464932546692983415')"
      ]
     },
     "execution_count": 44,
     "metadata": {},
     "output_type": "execute_result"
    }
   ],
   "source": [
    "Decimal('1.3') / Decimal('1.23452435')"
   ]
  }
 ],
 "metadata": {
  "kernelspec": {
   "display_name": "Python 3 (ipykernel)",
   "language": "python",
   "name": "python3"
  },
  "language_info": {
   "codemirror_mode": {
    "name": "ipython",
    "version": 3
   },
   "file_extension": ".py",
   "mimetype": "text/x-python",
   "name": "python",
   "nbconvert_exporter": "python",
   "pygments_lexer": "ipython3",
   "version": "3.11.8"
  }
 },
 "nbformat": 4,
 "nbformat_minor": 5
}
