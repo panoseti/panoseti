{
 "cells": [
  {
   "cell_type": "code",
   "execution_count": 5,
   "id": "d1fd2987-be6c-4949-adb1-fb1bc7b0f3da",
   "metadata": {},
   "outputs": [
    {
     "name": "stdout",
     "output_type": "stream",
     "text": [
      "The autoreload extension is already loaded. To reload it, use:\n",
      "  %reload_ext autoreload\n"
     ]
    }
   ],
   "source": [
    "%load_ext autoreload\n",
    "%autoreload 2\n",
    "from dgnss_utils import panoseti_file_interfaces as pfi\n",
    "from dgnss_utils import pff"
   ]
  },
  {
   "cell_type": "code",
   "execution_count": 7,
   "id": "4b707748-d9a0-485f-a3b4-6611c1bcbb53",
   "metadata": {},
   "outputs": [],
   "source": [
    "data_dir = '/Users/nico/Downloads/panoseti_test_data/obs_data/data'\n",
    "run_dir = 'obs_Lick.start_2023-08-29T04:49:58Z.runtype_sci-obs.pffd'\n",
    "ori = pfi.ObservingRunInterface(data_dir, run_dir)"
   ]
  },
  {
   "cell_type": "code",
   "execution_count": 11,
   "id": "e1501a20-63d8-4c17-936f-373844114f32",
   "metadata": {},
   "outputs": [
    {
     "data": {
      "text/plain": [
       "[{'fname': 'start_2023-08-29T04_50_49Z.dp_ph256.bpp_2.module_1.seqno_0.pff',\n",
       "  'seqno': 0,\n",
       "  'nframes': 10519,\n",
       "  'first_unix_t': 1693284655.602064,\n",
       "  'last_unix_t': 1693295937.1693113}]"
      ]
     },
     "execution_count": 11,
     "metadata": {},
     "output_type": "execute_result"
    }
   ],
   "source": [
    "ori.obs_pff_files[1]['pulse_height']"
   ]
  }
 ],
 "metadata": {
  "kernelspec": {
   "display_name": "Python 3 (ipykernel)",
   "language": "python",
   "name": "python3"
  },
  "language_info": {
   "codemirror_mode": {
    "name": "ipython",
    "version": 3
   },
   "file_extension": ".py",
   "mimetype": "text/x-python",
   "name": "python",
   "nbconvert_exporter": "python",
   "pygments_lexer": "ipython3",
   "version": "3.11.8"
  }
 },
 "nbformat": 4,
 "nbformat_minor": 5
}
