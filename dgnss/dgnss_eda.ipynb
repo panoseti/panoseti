{
 "cells": [
  {
   "cell_type": "code",
   "execution_count": 1,
   "id": "d1fd2987-be6c-4949-adb1-fb1bc7b0f3da",
   "metadata": {},
   "outputs": [
    {
     "ename": "SyntaxError",
     "evalue": "invalid syntax (panoseti_file_interfaces.py, line 48)",
     "output_type": "error",
     "traceback": [
      "Traceback \u001b[0;36m(most recent call last)\u001b[0m:\n",
      "\u001b[0m  File \u001b[1;32m~/anaconda3/envs/mach_learn/lib/python3.11/site-packages/IPython/core/interactiveshell.py:3553\u001b[0m in \u001b[1;35mrun_code\u001b[0m\n    exec(code_obj, self.user_global_ns, self.user_ns)\u001b[0m\n",
      "\u001b[0m  Cell \u001b[1;32mIn[1], line 3\u001b[0m\n    from dgnss_utils import panoseti_file_interfaces as pfi\u001b[0m\n",
      "\u001b[0;36m  File \u001b[0;32m~/panoseti/panoseti-software/dgnss/dgnss_utils.py:20\u001b[0;36m\n\u001b[0;31m    import panoseti_file_interfaces\u001b[0;36m\n",
      "\u001b[0;36m  File \u001b[0;32m~/panoseti/panoseti-software/dgnss/../util/panoseti_file_interfaces.py:48\u001b[0;36m\u001b[0m\n\u001b[0;31m    self.\u001b[0m\n\u001b[0m         ^\u001b[0m\n\u001b[0;31mSyntaxError\u001b[0m\u001b[0;31m:\u001b[0m invalid syntax\n"
     ]
    }
   ],
   "source": [
    "%load_ext autoreload\n",
    "%autoreload 2\n",
    "from dgnss_utils import panoseti_file_interfaces as pfi\n",
    "from dgnss_utils import pff"
   ]
  },
  {
   "cell_type": "code",
   "execution_count": null,
   "id": "4b707748-d9a0-485f-a3b4-6611c1bcbb53",
   "metadata": {},
   "outputs": [],
   "source": [
    "data_dir = '/Users/nico/Downloads/panoseti_test_data/obs_data/data'\n",
    "run_dir = 'obs_Lick.start_2023-08-29T04:49:58Z.runtype_sci-obs.pffd'\n",
    "ori = pfi.ObservingRunInterface(data_dir, run_dir)"
   ]
  },
  {
   "cell_type": "code",
   "execution_count": 5,
   "id": "e1501a20-63d8-4c17-936f-373844114f32",
   "metadata": {},
   "outputs": [
    {
     "data": {
      "text/plain": [
       "['__class__',\n",
       " '__delattr__',\n",
       " '__dict__',\n",
       " '__dir__',\n",
       " '__doc__',\n",
       " '__eq__',\n",
       " '__format__',\n",
       " '__ge__',\n",
       " '__getattribute__',\n",
       " '__getstate__',\n",
       " '__gt__',\n",
       " '__hash__',\n",
       " '__init__',\n",
       " '__init_subclass__',\n",
       " '__le__',\n",
       " '__lt__',\n",
       " '__module__',\n",
       " '__ne__',\n",
       " '__new__',\n",
       " '__reduce__',\n",
       " '__reduce_ex__',\n",
       " '__repr__',\n",
       " '__setattr__',\n",
       " '__sizeof__',\n",
       " '__str__',\n",
       " '__subclasshook__',\n",
       " '__weakref__',\n",
       " 'check_imaging_files',\n",
       " 'check_paths',\n",
       " 'compute_module_median_image',\n",
       " 'data_config',\n",
       " 'data_dir',\n",
       " 'frame_iterator',\n",
       " 'frame_size',\n",
       " 'get_module_imaging_files',\n",
       " 'get_tz_timestamp_str',\n",
       " 'has_imaging_data',\n",
       " 'has_pulse_height',\n",
       " 'img_bpp',\n",
       " 'img_size',\n",
       " 'intgrn_usec',\n",
       " 'module_file_time_seek',\n",
       " 'obs_config',\n",
       " 'obs_pff_files',\n",
       " 'plot_image',\n",
       " 'read_image_frame',\n",
       " 'run_dir',\n",
       " 'run_path',\n",
       " 'run_type',\n",
       " 'stack_frames',\n",
       " 'start_utc',\n",
       " 'stop_utc']"
      ]
     },
     "execution_count": 5,
     "metadata": {},
     "output_type": "execute_result"
    }
   ],
   "source": [
    "dir(ori)"
   ]
  }
 ],
 "metadata": {
  "kernelspec": {
   "display_name": "Python 3 (ipykernel)",
   "language": "python",
   "name": "python3"
  },
  "language_info": {
   "codemirror_mode": {
    "name": "ipython",
    "version": 3
   },
   "file_extension": ".py",
   "mimetype": "text/x-python",
   "name": "python",
   "nbconvert_exporter": "python",
   "pygments_lexer": "ipython3",
   "version": "3.11.8"
  }
 },
 "nbformat": 4,
 "nbformat_minor": 5
}
